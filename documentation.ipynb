{
 "cells": [
  {
   "cell_type": "code",
   "execution_count": 2,
   "metadata": {},
   "outputs": [],
   "source": [
    "import os\n",
    "from PIL import Image, ImageTk\n",
    "import numpy as np"
   ]
  },
  {
   "cell_type": "markdown",
   "metadata": {},
   "source": [
    "# train.py"
   ]
  },
  {
   "cell_type": "markdown",
   "metadata": {},
   "source": [
    "## yes()"
   ]
  },
  {
   "cell_type": "markdown",
   "metadata": {},
   "source": [
    "### Getting file paths"
   ]
  },
  {
   "cell_type": "code",
   "execution_count": 6,
   "metadata": {},
   "outputs": [],
   "source": [
    "photo_data_dir = (\"photo_data\")"
   ]
  },
  {
   "cell_type": "code",
   "execution_count": 11,
   "metadata": {},
   "outputs": [
    {
     "data": {
      "text/plain": [
       "['2019-00295-SR-0.1.1.jpg',\n",
       " '2019-00295-SR-0.1.10.jpg',\n",
       " '2019-00295-SR-0.1.11.jpg',\n",
       " '2019-00295-SR-0.1.12.jpg',\n",
       " '2019-00295-SR-0.1.13.jpg',\n",
       " '2019-00295-SR-0.1.14.jpg',\n",
       " '2019-00295-SR-0.1.15.jpg',\n",
       " '2019-00295-SR-0.1.16.jpg',\n",
       " '2019-00295-SR-0.1.17.jpg',\n",
       " '2019-00295-SR-0.1.18.jpg',\n",
       " '2019-00295-SR-0.1.19.jpg',\n",
       " '2019-00295-SR-0.1.2.jpg',\n",
       " '2019-00295-SR-0.1.20.jpg',\n",
       " '2019-00295-SR-0.1.21.jpg',\n",
       " '2019-00295-SR-0.1.22.jpg',\n",
       " '2019-00295-SR-0.1.23.jpg',\n",
       " '2019-00295-SR-0.1.24.jpg',\n",
       " '2019-00295-SR-0.1.25.jpg',\n",
       " '2019-00295-SR-0.1.26.jpg',\n",
       " '2019-00295-SR-0.1.27.jpg',\n",
       " '2019-00295-SR-0.1.28.jpg',\n",
       " '2019-00295-SR-0.1.29.jpg',\n",
       " '2019-00295-SR-0.1.3.jpg',\n",
       " '2019-00295-SR-0.1.30.jpg',\n",
       " '2019-00295-SR-0.1.31.jpg',\n",
       " '2019-00295-SR-0.1.32.jpg',\n",
       " '2019-00295-SR-0.1.33.jpg',\n",
       " '2019-00295-SR-0.1.34.jpg',\n",
       " '2019-00295-SR-0.1.35.jpg',\n",
       " '2019-00295-SR-0.1.36.jpg',\n",
       " '2019-00295-SR-0.1.37.jpg',\n",
       " '2019-00295-SR-0.1.38.jpg',\n",
       " '2019-00295-SR-0.1.39.jpg',\n",
       " '2019-00295-SR-0.1.4.jpg',\n",
       " '2019-00295-SR-0.1.40.jpg',\n",
       " '2019-00295-SR-0.1.41.jpg',\n",
       " '2019-00295-SR-0.1.42.jpg',\n",
       " '2019-00295-SR-0.1.43.jpg',\n",
       " '2019-00295-SR-0.1.44.jpg',\n",
       " '2019-00295-SR-0.1.45.jpg',\n",
       " '2019-00295-SR-0.1.46.jpg',\n",
       " '2019-00295-SR-0.1.47.jpg',\n",
       " '2019-00295-SR-0.1.48.jpg',\n",
       " '2019-00295-SR-0.1.49.jpg',\n",
       " '2019-00295-SR-0.1.5.jpg',\n",
       " '2019-00295-SR-0.1.50.jpg',\n",
       " '2019-00295-SR-0.1.51.jpg',\n",
       " '2019-00295-SR-0.1.52.jpg',\n",
       " '2019-00295-SR-0.1.53.jpg',\n",
       " '2019-00295-SR-0.1.54.jpg',\n",
       " '2019-00295-SR-0.1.55.jpg',\n",
       " '2019-00295-SR-0.1.56.jpg',\n",
       " '2019-00295-SR-0.1.57.jpg',\n",
       " '2019-00295-SR-0.1.58.jpg',\n",
       " '2019-00295-SR-0.1.59.jpg',\n",
       " '2019-00295-SR-0.1.6.jpg',\n",
       " '2019-00295-SR-0.1.60.jpg',\n",
       " '2019-00295-SR-0.1.61.jpg',\n",
       " '2019-00295-SR-0.1.62.jpg',\n",
       " '2019-00295-SR-0.1.63.jpg',\n",
       " '2019-00295-SR-0.1.64.jpg',\n",
       " '2019-00295-SR-0.1.65.jpg',\n",
       " '2019-00295-SR-0.1.66.jpg',\n",
       " '2019-00295-SR-0.1.67.jpg',\n",
       " '2019-00295-SR-0.1.68.jpg',\n",
       " '2019-00295-SR-0.1.69.jpg',\n",
       " '2019-00295-SR-0.1.7.jpg',\n",
       " '2019-00295-SR-0.1.70.jpg',\n",
       " '2019-00295-SR-0.1.71.jpg',\n",
       " '2019-00295-SR-0.1.72.jpg',\n",
       " '2019-00295-SR-0.1.73.jpg',\n",
       " '2019-00295-SR-0.1.74.jpg',\n",
       " '2019-00295-SR-0.1.75.jpg',\n",
       " '2019-00295-SR-0.1.76.jpg',\n",
       " '2019-00295-SR-0.1.77.jpg',\n",
       " '2019-00295-SR-0.1.78.jpg',\n",
       " '2019-00295-SR-0.1.79.jpg',\n",
       " '2019-00295-SR-0.1.8.jpg',\n",
       " '2019-00295-SR-0.1.80.jpg',\n",
       " '2019-00295-SR-0.1.81.jpg',\n",
       " '2019-00295-SR-0.1.82.jpg',\n",
       " '2019-00295-SR-0.1.83.jpg',\n",
       " '2019-00295-SR-0.1.84.jpg',\n",
       " '2019-00295-SR-0.1.85.jpg',\n",
       " '2019-00295-SR-0.1.86.jpg',\n",
       " '2019-00295-SR-0.1.87.jpg',\n",
       " '2019-00295-SR-0.1.88.jpg',\n",
       " '2019-00295-SR-0.1.89.jpg',\n",
       " '2019-00295-SR-0.1.9.jpg',\n",
       " '2019-00295-SR-0.1.90.jpg']"
      ]
     },
     "execution_count": 11,
     "metadata": {},
     "output_type": "execute_result"
    }
   ],
   "source": [
    "image_list = os.listdir(photo_data_dir)\n",
    "image_list"
   ]
  },
  {
   "cell_type": "code",
   "execution_count": 9,
   "metadata": {},
   "outputs": [
    {
     "data": {
      "text/plain": [
       "['photo_data\\\\2019-00295-SR-0.1.1.jpg',\n",
       " 'photo_data\\\\2019-00295-SR-0.1.10.jpg',\n",
       " 'photo_data\\\\2019-00295-SR-0.1.11.jpg',\n",
       " 'photo_data\\\\2019-00295-SR-0.1.12.jpg',\n",
       " 'photo_data\\\\2019-00295-SR-0.1.13.jpg',\n",
       " 'photo_data\\\\2019-00295-SR-0.1.14.jpg',\n",
       " 'photo_data\\\\2019-00295-SR-0.1.15.jpg',\n",
       " 'photo_data\\\\2019-00295-SR-0.1.16.jpg',\n",
       " 'photo_data\\\\2019-00295-SR-0.1.17.jpg',\n",
       " 'photo_data\\\\2019-00295-SR-0.1.18.jpg',\n",
       " 'photo_data\\\\2019-00295-SR-0.1.19.jpg',\n",
       " 'photo_data\\\\2019-00295-SR-0.1.2.jpg',\n",
       " 'photo_data\\\\2019-00295-SR-0.1.20.jpg',\n",
       " 'photo_data\\\\2019-00295-SR-0.1.21.jpg',\n",
       " 'photo_data\\\\2019-00295-SR-0.1.22.jpg',\n",
       " 'photo_data\\\\2019-00295-SR-0.1.23.jpg',\n",
       " 'photo_data\\\\2019-00295-SR-0.1.24.jpg',\n",
       " 'photo_data\\\\2019-00295-SR-0.1.25.jpg',\n",
       " 'photo_data\\\\2019-00295-SR-0.1.26.jpg',\n",
       " 'photo_data\\\\2019-00295-SR-0.1.27.jpg',\n",
       " 'photo_data\\\\2019-00295-SR-0.1.28.jpg',\n",
       " 'photo_data\\\\2019-00295-SR-0.1.29.jpg',\n",
       " 'photo_data\\\\2019-00295-SR-0.1.3.jpg',\n",
       " 'photo_data\\\\2019-00295-SR-0.1.30.jpg',\n",
       " 'photo_data\\\\2019-00295-SR-0.1.31.jpg',\n",
       " 'photo_data\\\\2019-00295-SR-0.1.32.jpg',\n",
       " 'photo_data\\\\2019-00295-SR-0.1.33.jpg',\n",
       " 'photo_data\\\\2019-00295-SR-0.1.34.jpg',\n",
       " 'photo_data\\\\2019-00295-SR-0.1.35.jpg',\n",
       " 'photo_data\\\\2019-00295-SR-0.1.36.jpg',\n",
       " 'photo_data\\\\2019-00295-SR-0.1.37.jpg',\n",
       " 'photo_data\\\\2019-00295-SR-0.1.38.jpg',\n",
       " 'photo_data\\\\2019-00295-SR-0.1.39.jpg',\n",
       " 'photo_data\\\\2019-00295-SR-0.1.4.jpg',\n",
       " 'photo_data\\\\2019-00295-SR-0.1.40.jpg',\n",
       " 'photo_data\\\\2019-00295-SR-0.1.41.jpg',\n",
       " 'photo_data\\\\2019-00295-SR-0.1.42.jpg',\n",
       " 'photo_data\\\\2019-00295-SR-0.1.43.jpg',\n",
       " 'photo_data\\\\2019-00295-SR-0.1.44.jpg',\n",
       " 'photo_data\\\\2019-00295-SR-0.1.45.jpg',\n",
       " 'photo_data\\\\2019-00295-SR-0.1.46.jpg',\n",
       " 'photo_data\\\\2019-00295-SR-0.1.47.jpg',\n",
       " 'photo_data\\\\2019-00295-SR-0.1.48.jpg',\n",
       " 'photo_data\\\\2019-00295-SR-0.1.49.jpg',\n",
       " 'photo_data\\\\2019-00295-SR-0.1.5.jpg',\n",
       " 'photo_data\\\\2019-00295-SR-0.1.50.jpg',\n",
       " 'photo_data\\\\2019-00295-SR-0.1.51.jpg',\n",
       " 'photo_data\\\\2019-00295-SR-0.1.52.jpg',\n",
       " 'photo_data\\\\2019-00295-SR-0.1.53.jpg',\n",
       " 'photo_data\\\\2019-00295-SR-0.1.54.jpg',\n",
       " 'photo_data\\\\2019-00295-SR-0.1.55.jpg',\n",
       " 'photo_data\\\\2019-00295-SR-0.1.56.jpg',\n",
       " 'photo_data\\\\2019-00295-SR-0.1.57.jpg',\n",
       " 'photo_data\\\\2019-00295-SR-0.1.58.jpg',\n",
       " 'photo_data\\\\2019-00295-SR-0.1.59.jpg',\n",
       " 'photo_data\\\\2019-00295-SR-0.1.6.jpg',\n",
       " 'photo_data\\\\2019-00295-SR-0.1.60.jpg',\n",
       " 'photo_data\\\\2019-00295-SR-0.1.61.jpg',\n",
       " 'photo_data\\\\2019-00295-SR-0.1.62.jpg',\n",
       " 'photo_data\\\\2019-00295-SR-0.1.63.jpg',\n",
       " 'photo_data\\\\2019-00295-SR-0.1.64.jpg',\n",
       " 'photo_data\\\\2019-00295-SR-0.1.65.jpg',\n",
       " 'photo_data\\\\2019-00295-SR-0.1.66.jpg',\n",
       " 'photo_data\\\\2019-00295-SR-0.1.67.jpg',\n",
       " 'photo_data\\\\2019-00295-SR-0.1.68.jpg',\n",
       " 'photo_data\\\\2019-00295-SR-0.1.69.jpg',\n",
       " 'photo_data\\\\2019-00295-SR-0.1.7.jpg',\n",
       " 'photo_data\\\\2019-00295-SR-0.1.70.jpg',\n",
       " 'photo_data\\\\2019-00295-SR-0.1.71.jpg',\n",
       " 'photo_data\\\\2019-00295-SR-0.1.72.jpg',\n",
       " 'photo_data\\\\2019-00295-SR-0.1.73.jpg',\n",
       " 'photo_data\\\\2019-00295-SR-0.1.74.jpg',\n",
       " 'photo_data\\\\2019-00295-SR-0.1.75.jpg',\n",
       " 'photo_data\\\\2019-00295-SR-0.1.76.jpg',\n",
       " 'photo_data\\\\2019-00295-SR-0.1.77.jpg',\n",
       " 'photo_data\\\\2019-00295-SR-0.1.78.jpg',\n",
       " 'photo_data\\\\2019-00295-SR-0.1.79.jpg',\n",
       " 'photo_data\\\\2019-00295-SR-0.1.8.jpg',\n",
       " 'photo_data\\\\2019-00295-SR-0.1.80.jpg',\n",
       " 'photo_data\\\\2019-00295-SR-0.1.81.jpg',\n",
       " 'photo_data\\\\2019-00295-SR-0.1.82.jpg',\n",
       " 'photo_data\\\\2019-00295-SR-0.1.83.jpg',\n",
       " 'photo_data\\\\2019-00295-SR-0.1.84.jpg',\n",
       " 'photo_data\\\\2019-00295-SR-0.1.85.jpg',\n",
       " 'photo_data\\\\2019-00295-SR-0.1.86.jpg',\n",
       " 'photo_data\\\\2019-00295-SR-0.1.87.jpg',\n",
       " 'photo_data\\\\2019-00295-SR-0.1.88.jpg',\n",
       " 'photo_data\\\\2019-00295-SR-0.1.89.jpg',\n",
       " 'photo_data\\\\2019-00295-SR-0.1.9.jpg',\n",
       " 'photo_data\\\\2019-00295-SR-0.1.90.jpg']"
      ]
     },
     "execution_count": 9,
     "metadata": {},
     "output_type": "execute_result"
    }
   ],
   "source": [
    "path = [os.path.join(photo_data_dir, file) for file in os.listdir(photo_data_dir)]\n",
    "path"
   ]
  },
  {
   "cell_type": "code",
   "execution_count": 10,
   "metadata": {},
   "outputs": [
    {
     "data": {
      "text/plain": [
       "'photo_data\\\\2019-00295-SR-0.1.1.jpg'"
      ]
     },
     "execution_count": 10,
     "metadata": {},
     "output_type": "execute_result"
    }
   ],
   "source": [
    "image = os.path.join(photo_data_dir, os.listdir(photo_data_dir)[0])\n",
    "image"
   ]
  },
  {
   "cell_type": "markdown",
   "metadata": {},
   "source": [
    "### Preprocessing images"
   ]
  },
  {
   "cell_type": "markdown",
   "metadata": {},
   "source": [
    "#### Convert to grayscale"
   ]
  },
  {
   "cell_type": "code",
   "execution_count": 18,
   "metadata": {},
   "outputs": [
    {
     "data": {
      "image/jpeg": "[encoded data removed]",
      "image/png": "[encoded data removed]",
      "text/plain": [
       "<PIL.Image.Image image mode=L size=250x250>"
      ]
     },
     "execution_count": 18,
     "metadata": {},
     "output_type": "execute_result"
    }
   ],
   "source": [
    "img = Image.open(image).convert('L')\n",
    "img"
   ]
  },
  {
   "cell_type": "markdown",
   "metadata": {},
   "source": [
    "#### Convert to Hexidecimal"
   ]
  },
  {
   "cell_type": "code",
   "execution_count": 13,
   "metadata": {},
   "outputs": [
    {
     "data": {
      "text/plain": [
       "array([[ 20,  19,  18, ...,   3,   3,   4],\n",
       "       [ 28,  24,  11, ...,   7,   2,   3],\n",
       "       [ 29,  25,   7, ...,  12,   5,   4],\n",
       "       ...,\n",
       "       [135, 132, 138, ..., 126, 124, 127],\n",
       "       [126, 142, 143, ..., 126, 124, 127],\n",
       "       [128, 153, 149, ..., 130, 120, 124]], dtype=uint8)"
      ]
     },
     "execution_count": 13,
     "metadata": {},
     "output_type": "execute_result"
    }
   ],
   "source": [
    "img_numpy = np.array(img, 'uint8') # values from 0 - 255\n",
    "img_numpy"
   ]
  },
  {
   "cell_type": "code",
   "execution_count": 16,
   "metadata": {},
   "outputs": [
    {
     "data": {
      "text/plain": [
       "(250, 250)"
      ]
     },
     "execution_count": 16,
     "metadata": {},
     "output_type": "execute_result"
    }
   ],
   "source": [
    "img_numpy.shape"
   ]
  },
  {
   "cell_type": "code",
   "execution_count": 24,
   "metadata": {},
   "outputs": [
    {
     "data": {
      "text/plain": [
       "('photo_data', '2019-00295-SR-0.1.1.jpg')"
      ]
     },
     "execution_count": 24,
     "metadata": {},
     "output_type": "execute_result"
    }
   ],
   "source": [
    "os.path.split(image)"
   ]
  },
  {
   "cell_type": "code",
   "execution_count": 27,
   "metadata": {},
   "outputs": [
    {
     "data": {
      "text/plain": [
       "['2019-00295-SR-0', '1', '1', 'jpg']"
      ]
     },
     "execution_count": 27,
     "metadata": {},
     "output_type": "execute_result"
    }
   ],
   "source": [
    "os.path.split(image)[1].split('.')"
   ]
  },
  {
   "cell_type": "code",
   "execution_count": 28,
   "metadata": {},
   "outputs": [
    {
     "data": {
      "text/plain": [
       "'1'"
      ]
     },
     "execution_count": 28,
     "metadata": {},
     "output_type": "execute_result"
    }
   ],
   "source": [
    "os.path.split(image)[1].split('.')[1]"
   ]
  },
  {
   "cell_type": "code",
   "execution_count": 23,
   "metadata": {},
   "outputs": [
    {
     "data": {
      "text/plain": [
       "1"
      ]
     },
     "execution_count": 23,
     "metadata": {},
     "output_type": "execute_result"
    }
   ],
   "source": [
    "id = int(os.path.split(image)[1].split('.')[1])\n",
    "id"
   ]
  },
  {
   "cell_type": "code",
   "execution_count": 29,
   "metadata": {},
   "outputs": [],
   "source": [
    "faces = []\n",
    "ids = []\n",
    "\n",
    "for image in path:\n",
    "    img = Image.open(image).convert('L') # convert to a grayscale image\n",
    "    img_numpy = np.array(img, 'uint8') # convert to values 0 - 255\n",
    "    id = int(os.path.split(image)[1].split('.')[1])\n",
    "\n",
    "    faces.append(img_numpy)\n",
    "    ids.append(id)\n",
    "\n",
    "ids = np.array(ids) # convert into an array"
   ]
  },
  {
   "cell_type": "code",
   "execution_count": 30,
   "metadata": {},
   "outputs": [
    {
     "data": {
      "text/plain": [
       "[array([[ 20,  19,  18, ...,   3,   3,   4],\n",
       "        [ 28,  24,  11, ...,   7,   2,   3],\n",
       "        [ 29,  25,   7, ...,  12,   5,   4],\n",
       "        ...,\n",
       "        [135, 132, 138, ..., 126, 124, 127],\n",
       "        [126, 142, 143, ..., 126, 124, 127],\n",
       "        [128, 153, 149, ..., 130, 120, 124]], dtype=uint8),\n",
       " array([[106,  70,  57, ...,   4,   7,  13],\n",
       "        [ 76,  64,  59, ...,   4,   1,   4],\n",
       "        [ 77,  66,  49, ...,   4,   3,   3],\n",
       "        ...,\n",
       "        [116, 117, 112, ..., 122, 121, 121],\n",
       "        [118, 132, 118, ..., 121, 120, 122],\n",
       "        [125, 140, 125, ..., 121, 121, 122]], dtype=uint8),\n",
       " array([[106, 104, 104, ...,  41,  36,  47],\n",
       "        [114, 117, 110, ...,  48,  37,  38],\n",
       "        [108, 116, 117, ...,  46,  39,  35],\n",
       "        ...,\n",
       "        [130, 131, 161, ..., 128, 123, 122],\n",
       "        [126, 139, 159, ..., 128, 124, 124],\n",
       "        [119, 134, 163, ..., 134, 123, 123]], dtype=uint8),\n",
       " array([[121, 119, 117, ..., 107, 111, 112],\n",
       "        [113, 111, 112, ..., 111, 112, 111],\n",
       "        [118, 113, 114, ..., 112, 116, 112],\n",
       "        ...,\n",
       "        [110, 123, 122, ...,  84,  84,  84],\n",
       "        [122, 124, 105, ...,  87,  86,  87],\n",
       "        [125, 130, 123, ...,  90,  83,  82]], dtype=uint8),\n",
       " array([[ 97,  93,  95, ...,   3,   5,   5],\n",
       "        [ 96,  94, 101, ...,   3,   5,   4],\n",
       "        [ 94,  90,  94, ...,   3,   4,   4],\n",
       "        ...,\n",
       "        [181, 191, 179, ..., 112, 109, 113],\n",
       "        [179, 174, 180, ..., 114, 118, 127],\n",
       "        [174, 165, 174, ..., 112, 114, 123]], dtype=uint8),\n",
       " array([[101, 109, 102, ...,   5,   4,   8],\n",
       "        [104, 105, 105, ...,   4,   8,  11],\n",
       "        [110, 107, 105, ...,  10,  16,  19],\n",
       "        ...,\n",
       "        [126, 124,  84, ..., 127, 130, 129],\n",
       "        [131, 117,  89, ..., 123, 129, 128],\n",
       "        [123, 116,  88, ..., 127, 134, 131]], dtype=uint8),\n",
       " array([[107,  97,  96, ...,   3,   9,  18],\n",
       "        [104,  94,  92, ...,   5,  10,  15],\n",
       "        [105,  96,  94, ...,   2,   7,   8],\n",
       "        ...,\n",
       "        [186, 193, 194, ..., 122, 122, 120],\n",
       "        [183, 202, 203, ..., 116, 110, 119],\n",
       "        [175, 189, 190, ..., 117, 114, 122]], dtype=uint8),\n",
       " array([[104, 102,  98, ...,  34,  64,  79],\n",
       "        [106, 106, 106, ...,  34,  44,  55],\n",
       "        [ 98,  98, 100, ...,  24,  25,  30],\n",
       "        ...,\n",
       "        [ 74,  70,  99, ..., 129, 126, 119],\n",
       "        [ 58,  56,  96, ..., 128, 141, 126],\n",
       "        [ 59,  70,  94, ..., 129, 143, 130]], dtype=uint8),\n",
       " array([[ 95,  96,  90, ...,  10,   9,  22],\n",
       "        [ 95, 100, 105, ...,   7,  24,  37],\n",
       "        [ 93,  95, 102, ...,   3,   8,  21],\n",
       "        ...,\n",
       "        [176, 182, 185, ..., 123, 122, 126],\n",
       "        [183, 199, 203, ..., 124, 123, 128],\n",
       "        [187, 193, 196, ..., 124, 122, 127]], dtype=uint8),\n",
       " array([[ 97,  89,  93, ...,   6,   6,   6],\n",
       "        [ 94,  89,  92, ...,   7,   5,   5],\n",
       "        [103,  91,  86, ...,   6,   7,   7],\n",
       "        ...,\n",
       "        [185, 191, 189, ..., 110, 118, 120],\n",
       "        [186, 190, 200, ..., 115, 119, 117],\n",
       "        [187, 189, 197, ..., 118, 122, 118]], dtype=uint8),\n",
       " array([[ 84,  83,  89, ...,   3,   3,   6],\n",
       "        [ 94,  89, 106, ...,   3,   4,   8],\n",
       "        [ 85,  79,  81, ...,   3,   1,   6],\n",
       "        ...,\n",
       "        [166, 165, 188, ..., 100, 105, 110],\n",
       "        [169, 174, 182, ...,  97,  98,  99],\n",
       "        [169, 174, 194, ..., 101,  98,  99]], dtype=uint8),\n",
       " array([[ 25,  21,  11, ...,   2,   4,   5],\n",
       "        [ 22,  15,  14, ...,   3,   6,   7],\n",
       "        [ 10,   5,  15, ...,  11,  12,  15],\n",
       "        ...,\n",
       "        [158, 160, 143, ..., 115, 115, 115],\n",
       "        [155, 165, 161, ..., 129, 115, 118],\n",
       "        [160, 157, 148, ..., 118, 115, 118]], dtype=uint8),\n",
       " array([[ 96,  93,  91, ...,   3,   2,   6],\n",
       "        [ 98,  90,  86, ...,   3,   4,   7],\n",
       "        [103,  97,  95, ...,   3,   2,   4],\n",
       "        ...,\n",
       "        [138, 137, 162, ..., 110, 113, 113],\n",
       "        [143, 168, 182, ..., 113, 115, 110],\n",
       "        [175, 179, 193, ..., 115, 118, 113]], dtype=uint8),\n",
       " array([[ 89, 107,  90, ...,   6,   4,   7],\n",
       "        [ 85,  89,  87, ...,   5,   4,   7],\n",
       "        [ 84,  80,  79, ...,   3,   1,   5],\n",
       "        ...,\n",
       "        [127, 117, 141, ...,  88,  93,  92],\n",
       "        [118, 148, 165, ...,  90,  97,  97],\n",
       "        [167, 173, 178, ...,  93, 105, 105]], dtype=uint8),\n",
       " array([[103, 107, 112, ...,   7,   5,  15],\n",
       "        [105,  96,  96, ...,  11,   6,  14],\n",
       "        [104,  98,  98, ...,   8,   5,  11],\n",
       "        ...,\n",
       "        [141, 151, 153, ..., 122, 129, 131],\n",
       "        [132, 154, 162, ..., 112, 119, 126],\n",
       "        [126, 160, 173, ..., 111, 124, 123]], dtype=uint8),\n",
       " array([[101,  90,  85, ...,  28,  54,  85],\n",
       "        [111, 113, 107, ...,  30,  46,  68],\n",
       "        [108, 111, 105, ...,  23,  29,  50],\n",
       "        ...,\n",
       "        [153, 167, 157, ..., 128, 134, 133],\n",
       "        [152, 158, 161, ..., 130, 134, 133],\n",
       "        [147, 155, 165, ..., 132, 136, 135]], dtype=uint8),\n",
       " array([[114,  99, 102, ...,   6,   4,  10],\n",
       "        [ 97,  99, 101, ...,   4,   8,  13],\n",
       "        [ 94,  98, 101, ...,   2,   9,  13],\n",
       "        ...,\n",
       "        [181, 159, 144, ..., 116, 121, 124],\n",
       "        [171, 152, 138, ..., 119, 116, 122],\n",
       "        [159, 136, 133, ..., 122, 122, 122]], dtype=uint8),\n",
       " array([[103, 106,  99, ...,  49,  50,  61],\n",
       "        [102, 101, 102, ...,  33,  30,  41],\n",
       "        [ 92,  86,  99, ...,  17,  28,  37],\n",
       "        ...,\n",
       "        [144, 152, 158, ..., 119, 120, 117],\n",
       "        [167, 160, 151, ..., 116, 117, 118],\n",
       "        [167, 157, 144, ..., 118, 122, 121]], dtype=uint8),\n",
       " array([[115, 104, 103, ...,  93, 105, 105],\n",
       "        [110, 107, 102, ...,  86,  96,  99],\n",
       "        [102, 101, 103, ...,  65,  78,  86],\n",
       "        ...,\n",
       "        [ 56,  95, 112, ..., 132, 127, 128],\n",
       "        [ 70,  94, 132, ..., 122, 123, 126],\n",
       "        [ 67,  99, 140, ..., 120, 117, 120]], dtype=uint8),\n",
       " array([[102, 104,  89, ...,   4,   8,  13],\n",
       "        [102, 109, 105, ...,   5,   7,   9],\n",
       "        [ 91,  93, 100, ...,   5,   8,   7],\n",
       "        ...,\n",
       "        [130, 167, 156, ..., 111, 116, 125],\n",
       "        [149, 161, 159, ..., 117, 122, 130],\n",
       "        [139, 150, 159, ..., 116, 123, 132]], dtype=uint8),\n",
       " array([[107,  96,  95, ...,   1,   4,   8],\n",
       "        [111,  91, 105, ...,   2,   8,  13],\n",
       "        [108, 100, 110, ...,   6,   6,  12],\n",
       "        ...,\n",
       "        [ 92,  90,  83, ..., 125, 123, 124],\n",
       "        [ 93,  90,  71, ..., 130, 127, 126],\n",
       "        [101,  89,  71, ..., 127, 124, 125]], dtype=uint8),\n",
       " array([[103, 107, 116, ...,  13,  17,  18],\n",
       "        [104, 102, 108, ...,  13,  21,  21],\n",
       "        [107, 102, 106, ...,  15,  14,  14],\n",
       "        ...,\n",
       "        [167, 174, 181, ..., 135, 135, 127],\n",
       "        [167, 172, 170, ..., 133, 132, 130],\n",
       "        [172, 176, 173, ..., 129, 131, 129]], dtype=uint8),\n",
       " array([[ 90,  73,  42, ...,   4,   4,   4],\n",
       "        [ 90,  57,  32, ...,   4,   4,   4],\n",
       "        [ 70,  39,  32, ...,   4,   4,   4],\n",
       "        ...,\n",
       "        [103, 102, 109, ..., 114, 121, 123],\n",
       "        [ 98,  98, 103, ..., 120, 119, 122],\n",
       "        [101, 100, 103, ..., 119, 121, 123]], dtype=uint8),\n",
       " array([[108,  98,  94, ...,   2,   5,   5],\n",
       "        [ 99, 100,  97, ...,   5,   3,   3],\n",
       "        [ 99, 103,  98, ...,   7,   5,   5],\n",
       "        ...,\n",
       "        [145, 151, 170, ..., 106, 110, 118],\n",
       "        [149, 165, 170, ..., 106, 104, 112],\n",
       "        [169, 182, 181, ..., 123, 124, 123]], dtype=uint8),\n",
       " array([[104, 101, 100, ...,  93,  98, 109],\n",
       "        [104, 102,  96, ...,  81,  96,  93],\n",
       "        [103, 117, 113, ...,  76,  82,  93],\n",
       "        ...,\n",
       "        [176, 170, 182, ..., 139, 136, 133],\n",
       "        [184, 186, 197, ..., 130, 128, 128],\n",
       "        [178, 177, 193, ..., 125, 130, 130]], dtype=uint8),\n",
       " array([[101,  96,  96, ...,  12,  25,  27],\n",
       "        [101,  96,  98, ...,  22,  10,  14],\n",
       "        [105,  91,  98, ...,  14,  23,  28],\n",
       "        ...,\n",
       "        [143, 160, 168, ..., 123, 128, 127],\n",
       "        [135, 167, 180, ..., 125, 129, 125],\n",
       "        [169, 168, 167, ..., 129, 131, 127]], dtype=uint8),\n",
       " array([[102,  97, 100, ...,  15,  21,  30],\n",
       "        [ 85,  97,  94, ...,  14,  17,  25],\n",
       "        [ 91,  89,  98, ...,  14,  19,  26],\n",
       "        ...,\n",
       "        [160, 148, 159, ..., 131, 132, 131],\n",
       "        [185, 157, 166, ..., 122, 128, 133],\n",
       "        [177, 158, 175, ..., 117, 117, 123]], dtype=uint8),\n",
       " array([[102, 102,  99, ...,  11,  14,  15],\n",
       "        [102,  97,  94, ...,  10,  18,  18],\n",
       "        [100, 100,  99, ...,  11,  12,  11],\n",
       "        ...,\n",
       "        [173, 181, 188, ..., 134, 134, 131],\n",
       "        [189, 184, 190, ..., 128, 128, 127],\n",
       "        [181, 184, 196, ..., 112, 122, 121]], dtype=uint8),\n",
       " array([[107, 100,  97, ...,  55,  74,  72],\n",
       "        [104,  96,  89, ...,  21,  47,  49],\n",
       "        [102,  95,  86, ...,  21,  30,  28],\n",
       "        ...,\n",
       "        [116, 145, 156, ..., 120, 126, 123],\n",
       "        [114, 165, 159, ..., 124, 126, 124],\n",
       "        [112, 164, 159, ..., 128, 126, 124]], dtype=uint8),\n",
       " array([[ 85,  87,  91, ...,   4,   5,   4],\n",
       "        [ 87,  92,  94, ...,   6,   3,   3],\n",
       "        [ 90, 102,  95, ...,   8,   5,   5],\n",
       "        ...,\n",
       "        [166, 158, 172, ..., 110, 101, 120],\n",
       "        [181, 182, 191, ..., 121, 112, 115],\n",
       "        [180, 181, 189, ..., 106, 114, 118]], dtype=uint8),\n",
       " array([[104, 102, 100, ...,   8,   6,   8],\n",
       "        [105, 104, 101, ...,   6,   6,   8],\n",
       "        [103, 103, 100, ...,   6,  10,  12],\n",
       "        ...,\n",
       "        [158, 158, 157, ..., 129, 119, 123],\n",
       "        [157, 157, 165, ..., 126, 121, 127],\n",
       "        [155, 168, 186, ..., 121, 124, 130]], dtype=uint8),\n",
       " array([[106, 100,  97, ...,   5,   8,   5],\n",
       "        [ 98,  93,  96, ...,   7,   7,   5],\n",
       "        [100,  93,  93, ...,   4,   5,   7],\n",
       "        ...,\n",
       "        [164, 180, 185, ..., 125, 126, 129],\n",
       "        [170, 175, 187, ..., 118, 122, 125],\n",
       "        [181, 184, 189, ..., 125, 125, 126]], dtype=uint8),\n",
       " array([[ 98,  95,  92, ...,   2,   4,   5],\n",
       "        [ 96,  98,  99, ...,   5,   2,   3],\n",
       "        [ 98, 100,  99, ...,   7,   3,   5],\n",
       "        ...,\n",
       "        [160, 171, 185, ..., 114, 117, 123],\n",
       "        [164, 159, 174, ..., 116, 115, 123],\n",
       "        [162, 162, 182, ..., 117, 119, 127]], dtype=uint8),\n",
       " array([[ 23,  24,  25, ...,   4,   4,   4],\n",
       "        [ 29,  16,  15, ...,   4,   4,   4],\n",
       "        [ 19,  14,  17, ...,   1,   3,   3],\n",
       "        ...,\n",
       "        [127, 149, 148, ..., 116, 117, 117],\n",
       "        [127, 126, 137, ..., 118, 120, 115],\n",
       "        [127, 130, 139, ..., 117, 112, 105]], dtype=uint8),\n",
       " array([[102,  99,  97, ...,  13,  15,  22],\n",
       "        [ 96,  98,  98, ...,   6,  18,  25],\n",
       "        [ 97,  95,  91, ...,   9,   8,  13],\n",
       "        ...,\n",
       "        [168, 186, 179, ..., 128, 127, 128],\n",
       "        [176, 185, 191, ..., 123, 124, 130],\n",
       "        [191, 193, 190, ..., 123, 115, 120]], dtype=uint8),\n",
       " array([[ 91, 105, 102, ...,   5,  16,  18],\n",
       "        [ 98, 101,  96, ...,   5,  18,  23],\n",
       "        [ 97,  96, 100, ...,   4,  16,  22],\n",
       "        ...,\n",
       "        [162, 188, 188, ..., 123, 125, 128],\n",
       "        [165, 175, 182, ..., 124, 123, 120],\n",
       "        [173, 180, 183, ..., 127, 122, 118]], dtype=uint8),\n",
       " array([[ 91,  95,  89, ...,   6,   4,   5],\n",
       "        [ 90,  94,  86, ...,   4,   4,   5],\n",
       "        [ 88,  97,  93, ...,   6,   3,   4],\n",
       "        ...,\n",
       "        [147, 155, 170, ..., 105, 114, 113],\n",
       "        [171, 176, 177, ..., 104, 116, 118],\n",
       "        [149, 171, 184, ..., 105, 112, 111]], dtype=uint8),\n",
       " array([[109, 106, 108, ...,  27,  24,  37],\n",
       "        [106,  86, 106, ...,  13,  25,  25],\n",
       "        [109,  90, 102, ...,  12,  20,  26],\n",
       "        ...,\n",
       "        [135, 139, 158, ..., 125, 125, 130],\n",
       "        [136, 146, 160, ..., 125, 121, 124],\n",
       "        [143, 160, 167, ..., 129, 124, 125]], dtype=uint8),\n",
       " array([[ 97, 105,  95, ...,   7,  13,  10],\n",
       "        [105, 103,  96, ...,   7,  14,  18],\n",
       "        [117, 104, 100, ...,   7,   8,  15],\n",
       "        ...,\n",
       "        [166, 186, 187, ..., 137, 126, 127],\n",
       "        [173, 182, 185, ..., 122, 124, 124],\n",
       "        [175, 184, 188, ..., 110, 122, 122]], dtype=uint8),\n",
       " array([[ 89,  95,  90, ...,   9,   9,   6],\n",
       "        [ 85,  93,  91, ...,   8,  10,   8],\n",
       "        [ 89,  93,  91, ...,   6,  10,   9],\n",
       "        ...,\n",
       "        [175, 185, 181, ..., 119, 115, 113],\n",
       "        [181, 183, 185, ..., 120, 130, 126],\n",
       "        [189, 183, 180, ..., 121, 120, 114]], dtype=uint8),\n",
       " array([[ 92, 100,  88, ...,   7,   2,   3],\n",
       "        [ 97, 103,  98, ...,   3,   3,   4],\n",
       "        [ 95,  96,  97, ...,   4,   4,   4],\n",
       "        ...,\n",
       "        [144, 153, 168, ..., 113, 115, 107],\n",
       "        [139, 164, 169, ..., 108, 109, 112],\n",
       "        [148, 164, 168, ..., 110, 115, 118]], dtype=uint8),\n",
       " array([[103, 106, 101, ...,   3,  16,  38],\n",
       "        [104, 105,  99, ...,   7,  16,  30],\n",
       "        [109, 107, 103, ...,   9,  18,  25],\n",
       "        ...,\n",
       "        [164, 171, 185, ..., 123, 119, 127],\n",
       "        [167, 185, 191, ..., 128, 122, 127],\n",
       "        [168, 174, 190, ..., 127, 124, 129]], dtype=uint8),\n",
       " array([[103, 102, 101, ...,   4,   4,   4],\n",
       "        [ 95,  90,  94, ...,   3,   3,   3],\n",
       "        [104,  92, 100, ...,   4,   3,   4],\n",
       "        ...,\n",
       "        [149, 154, 163, ..., 109, 123, 122],\n",
       "        [162, 166, 176, ..., 119, 123, 123],\n",
       "        [164, 169, 174, ..., 121, 125, 125]], dtype=uint8),\n",
       " array([[ 93, 102, 100, ...,   7,   7,   6],\n",
       "        [ 93,  94,  87, ...,   4,   3,   2],\n",
       "        [103,  93,  97, ...,   7,   6,   5],\n",
       "        ...,\n",
       "        [172, 171, 178, ..., 112, 114, 119],\n",
       "        [171, 183, 179, ..., 120, 117, 121],\n",
       "        [181, 188, 185, ..., 122, 119, 123]], dtype=uint8),\n",
       " array([[ 28,  32,  29, ...,   4,   4,   4],\n",
       "        [ 33,  30,  24, ...,   4,   4,   4],\n",
       "        [ 38,  19,   3, ...,   4,   4,   4],\n",
       "        ...,\n",
       "        [174, 143, 124, ..., 117, 119, 121],\n",
       "        [177, 143, 123, ..., 118, 117, 118],\n",
       "        [164, 148, 134, ..., 117, 119, 120]], dtype=uint8),\n",
       " array([[ 99, 102, 103, ...,  13,  21,  26],\n",
       "        [105, 105, 102, ...,  16,  20,  22],\n",
       "        [105, 102,  98, ...,  15,  22,  21],\n",
       "        ...,\n",
       "        [173, 186, 178, ..., 124, 122, 123],\n",
       "        [180, 185, 188, ..., 126, 124, 125],\n",
       "        [175, 183, 192, ..., 126, 129, 128]], dtype=uint8),\n",
       " array([[ 97, 104, 107, ...,   3,   2,   3],\n",
       "        [ 94,  97,  97, ...,   3,   2,   3],\n",
       "        [ 99,  96,  95, ...,   3,   3,   4],\n",
       "        ...,\n",
       "        [163, 170, 161, ..., 125, 127, 125],\n",
       "        [165, 169, 175, ..., 125, 121, 119],\n",
       "        [162, 173, 186, ..., 126, 126, 136]], dtype=uint8),\n",
       " array([[103,  99, 100, ...,   4,   4,   4],\n",
       "        [ 98,  98, 103, ...,   4,   2,   3],\n",
       "        [101, 101, 103, ...,   6,   6,   6],\n",
       "        ...,\n",
       "        [170, 171, 175, ..., 109, 112, 116],\n",
       "        [176, 177, 172, ..., 112, 115, 118],\n",
       "        [186, 189, 189, ..., 116, 120, 123]], dtype=uint8),\n",
       " array([[107, 103, 100, ...,  15,  20,  29],\n",
       "        [108, 104,  99, ...,  12,  20,  31],\n",
       "        [106, 102,  95, ...,  18,  20,  32],\n",
       "        ...,\n",
       "        [185, 184, 185, ..., 123, 129, 128],\n",
       "        [202, 183, 189, ..., 121, 126, 130],\n",
       "        [188, 187, 199, ..., 124, 123, 127]], dtype=uint8),\n",
       " array([[ 94,  98,  95, ...,   3,   4,   3],\n",
       "        [ 94,  98,  92, ...,   3,   9,   9],\n",
       "        [ 92,  94,  92, ...,   3,   9,  12],\n",
       "        ...,\n",
       "        [178, 185, 186, ..., 108, 109, 107],\n",
       "        [185, 180, 190, ..., 111, 109, 114],\n",
       "        [177, 173, 186, ..., 106, 109, 116]], dtype=uint8),\n",
       " array([[ 99, 103, 103, ...,  11,  29,  34],\n",
       "        [102, 107, 100, ...,  12,  22,  28],\n",
       "        [ 98, 101,  94, ...,  12,  20,  26],\n",
       "        ...,\n",
       "        [152, 152, 164, ..., 128, 130, 128],\n",
       "        [169, 176, 180, ..., 130, 133, 133],\n",
       "        [170, 175, 180, ..., 133, 128, 130]], dtype=uint8),\n",
       " array([[ 98, 109, 101, ...,   9,   4,  17],\n",
       "        [111, 103, 101, ...,   7,  10,  20],\n",
       "        [100,  90,  94, ...,   7,   6,  11],\n",
       "        ...,\n",
       "        [165, 170, 174, ..., 114, 121, 125],\n",
       "        [169, 179, 182, ..., 120, 125, 131],\n",
       "        [171, 180, 184, ..., 118, 114, 120]], dtype=uint8),\n",
       " array([[ 34,  38,  43, ...,  90,  92,  92],\n",
       "        [ 36,  39,  45, ...,  89,  89,  89],\n",
       "        [ 41,  44,  48, ...,  86,  85,  85],\n",
       "        ...,\n",
       "        [137, 140, 144, ..., 126, 128, 128],\n",
       "        [138, 140, 143, ..., 125, 126, 126],\n",
       "        [139, 140, 143, ..., 125, 126, 126]], dtype=uint8),\n",
       " array([[ 12,  12,  31, ...,   4,   6,   6],\n",
       "        [  4,  10,  43, ...,   2,   8,   8],\n",
       "        [ 14,   5,  22, ...,   2,   4,   4],\n",
       "        ...,\n",
       "        [107,  64,  30, ..., 113, 113, 106],\n",
       "        [ 81,  43,  27, ..., 108, 117, 116],\n",
       "        [103,  48,  25, ..., 110, 118, 118]], dtype=uint8),\n",
       " array([[ 17,  18,  18, ...,   6,   5,   4],\n",
       "        [ 21,  23,  22, ...,   6,   3,   4],\n",
       "        [ 14,  21,  26, ...,   5,   8,  10],\n",
       "        ...,\n",
       "        [115, 121,  40, ..., 110, 113, 112],\n",
       "        [124,  79,  20, ..., 112, 113, 113],\n",
       "        [ 95,  83,  26, ..., 114, 113, 113]], dtype=uint8),\n",
       " array([[ 16,   5,   4, ...,   4,   4,   4],\n",
       "        [ 16,  17,  11, ...,   4,   3,   3],\n",
       "        [  4,  17,   9, ...,   3,   4,   4],\n",
       "        ...,\n",
       "        [ 95,  91,  53, ..., 100, 105, 108],\n",
       "        [ 93,  85,  67, ..., 110, 101, 103],\n",
       "        [ 81,  78,  75, ...,  98, 107, 112]], dtype=uint8),\n",
       " array([[ 17,   7,   4, ...,   4,   4,   4],\n",
       "        [ 15,   9,   7, ...,   4,   5,   5],\n",
       "        [  8,  11,  16, ...,   4,   5,   4],\n",
       "        ...,\n",
       "        [108, 105,  36, ..., 101, 108, 108],\n",
       "        [ 98,  85,   5, ...,  87, 103, 104],\n",
       "        [103,  72,  19, ...,  96, 101, 102]], dtype=uint8),\n",
       " array([[ 24,  18,  20, ...,   3,   2,   3],\n",
       "        [ 25,  11,   9, ...,   3,   6,   6],\n",
       "        [ 39,   9,  15, ...,   4,   4,   4],\n",
       "        ...,\n",
       "        [107, 107,  96, ...,  79,  94,  83],\n",
       "        [ 97,  89,  96, ...,  77,  88,  98],\n",
       "        [100,  84,  68, ...,  85,  91, 102]], dtype=uint8),\n",
       " array([[ 80,  70,  75, ...,   4,   4,   4],\n",
       "        [ 79,  63,  69, ...,   4,   4,   4],\n",
       "        [ 87,  82,  80, ...,   4,   4,   4],\n",
       "        ...,\n",
       "        [114,  98,  90, ...,  67,  73,  79],\n",
       "        [140, 109,  88, ...,  76,  75,  80],\n",
       "        [127, 125, 112, ...,  86,  87,  94]], dtype=uint8),\n",
       " array([[ 98,  97,  88, ...,   4,   4,   4],\n",
       "        [ 99,  89,  85, ...,   4,   4,   4],\n",
       "        [ 90,  87,  84, ...,   4,   4,   4],\n",
       "        ...,\n",
       "        [142, 140, 127, ...,  87,  87,  85],\n",
       "        [136, 131, 123, ...,  87,  84,  76],\n",
       "        [114, 110, 100, ...,  82,  83,  74]], dtype=uint8),\n",
       " array([[ 97,  95,  97, ...,   4,   4,   4],\n",
       "        [106,  82,  84, ...,   4,   4,   4],\n",
       "        [105, 114, 100, ...,   4,   4,   4],\n",
       "        ...,\n",
       "        [184, 191, 191, ..., 125, 131, 142],\n",
       "        [176, 196, 188, ..., 136, 134, 134],\n",
       "        [184, 190, 174, ..., 143, 143, 143]], dtype=uint8),\n",
       " array([[82, 79, 81, ..., 33, 29, 26],\n",
       "        [93, 85, 82, ..., 36, 32, 29],\n",
       "        [99, 86, 80, ..., 40, 37, 35],\n",
       "        ...,\n",
       "        [61, 54, 54, ..., 72, 67, 71],\n",
       "        [59, 53, 53, ..., 75, 68, 72],\n",
       "        [57, 52, 51, ..., 73, 59, 65]], dtype=uint8),\n",
       " array([[101,  92,  88, ...,  44,  43,  43],\n",
       "        [ 97,  94,  95, ...,  48,  46,  45],\n",
       "        [ 98, 101, 105, ...,  46,  45,  44],\n",
       "        ...,\n",
       "        [ 57,  63,  57, ...,  72,  73,  73],\n",
       "        [ 61,  62,  60, ...,  73,  68,  71],\n",
       "        [ 59,  60,  58, ...,  75,  74,  77]], dtype=uint8),\n",
       " array([[ 37,  37,  39, ...,   4,   4,   4],\n",
       "        [ 38,  42,  46, ...,   4,   4,   4],\n",
       "        [ 45,  51,  56, ...,   4,   4,   4],\n",
       "        ...,\n",
       "        [101,  97,  96, ...,  72,  92, 104],\n",
       "        [100, 101, 103, ...,  66,  91, 107],\n",
       "        [100, 102, 105, ...,  65,  91, 107]], dtype=uint8),\n",
       " array([[ 15,  16,  17, ...,   4,   4,   4],\n",
       "        [ 12,  13,  14, ...,   4,   4,   4],\n",
       "        [  6,   8,   8, ...,   4,   4,   4],\n",
       "        ...,\n",
       "        [108, 109, 112, ..., 109, 116, 122],\n",
       "        [112, 110, 108, ..., 104, 118, 129],\n",
       "        [113, 111, 108, ..., 101, 120, 132]], dtype=uint8),\n",
       " array([[104, 103, 104, ...,  90,  90,  90],\n",
       "        [105, 104, 104, ...,  89,  90,  90],\n",
       "        [106, 105, 105, ...,  87,  86,  86],\n",
       "        ...,\n",
       "        [112, 111, 111, ..., 106, 109, 109],\n",
       "        [112, 112, 112, ..., 106, 108, 108],\n",
       "        [112, 112, 112, ..., 106, 108, 108]], dtype=uint8),\n",
       " array([[ 28,  23,  26, ...,   4,   4,   4],\n",
       "        [ 28,  23,  30, ...,   4,   4,   4],\n",
       "        [ 41,  28,  42, ...,   4,   4,   4],\n",
       "        ...,\n",
       "        [119, 123, 113, ..., 126, 129, 127],\n",
       "        [116, 120, 113, ..., 123, 120, 132],\n",
       "        [117, 122, 117, ..., 125, 122, 133]], dtype=uint8),\n",
       " array([[74, 83, 82, ...,  4,  4,  4],\n",
       "        [87, 83, 79, ...,  5,  4,  4],\n",
       "        [86, 78, 75, ...,  4,  4,  4],\n",
       "        ...,\n",
       "        [57, 57, 52, ..., 63, 65, 66],\n",
       "        [58, 52, 55, ..., 58, 66, 69],\n",
       "        [67, 51, 47, ..., 58, 70, 75]], dtype=uint8),\n",
       " array([[ 57,  58,  66, ...,   4,   4,   4],\n",
       "        [ 69,  67,  62, ...,   4,   4,   4],\n",
       "        [ 66,  62,  56, ...,   4,   4,   4],\n",
       "        ...,\n",
       "        [145, 132, 101, ..., 118, 113, 130],\n",
       "        [154, 135, 125, ..., 119, 112, 112],\n",
       "        [139, 131, 134, ..., 115, 119, 119]], dtype=uint8),\n",
       " array([[ 89,  92, 112, ...,   4,   4,   4],\n",
       "        [ 86,  99, 118, ...,   4,   4,   4],\n",
       "        [ 98, 101, 122, ...,   4,   4,   4],\n",
       "        ...,\n",
       "        [ 91,  87,  27, ..., 116, 109, 110],\n",
       "        [105,  96,  10, ..., 109, 114, 117],\n",
       "        [121,  11,   7, ..., 109, 114, 117]], dtype=uint8),\n",
       " array([[ 76,  28,  17, ...,   4,   4,   4],\n",
       "        [ 62,  28,  21, ...,   4,   4,   4],\n",
       "        [ 46,  38,  36, ...,   4,   4,   4],\n",
       "        ...,\n",
       "        [ 90, 163, 162, ...,  89,  94,  94],\n",
       "        [101, 160, 163, ...,  93,  98, 107],\n",
       "        [118, 167, 158, ...,  94,  87,  94]], dtype=uint8),\n",
       " array([[ 17,  22,  32, ...,   3,   4,   4],\n",
       "        [ 31,  32,  41, ...,   4,   4,   4],\n",
       "        [ 37,  29,  35, ...,   4,   4,   4],\n",
       "        ...,\n",
       "        [  5,   9,  22, ..., 111, 113, 113],\n",
       "        [  9,  10,   8, ..., 113, 114, 115],\n",
       "        [ 17,  13,  18, ..., 115, 116, 117]], dtype=uint8),\n",
       " array([[ 43,  22,  23, ...,   4,   4,   4],\n",
       "        [ 38,  23,  24, ...,   4,   4,   4],\n",
       "        [ 53,  41,  38, ...,   4,   4,   4],\n",
       "        ...,\n",
       "        [ 51,  16,  24, ..., 118, 115, 112],\n",
       "        [ 45,   7,  19, ..., 118, 119, 111],\n",
       "        [ 46,  13,  21, ..., 116, 126, 118]], dtype=uint8),\n",
       " array([[84, 83, 83, ..., 32, 30, 29],\n",
       "        [83, 82, 83, ..., 33, 30, 29],\n",
       "        [82, 82, 82, ..., 29, 31, 31],\n",
       "        ...,\n",
       "        [70, 70, 70, ..., 84, 81, 80],\n",
       "        [72, 72, 71, ..., 83, 81, 80],\n",
       "        [72, 72, 71, ..., 83, 81, 80]], dtype=uint8),\n",
       " array([[ 78,  79,  82, ...,  30,  33,  33],\n",
       "        [ 79,  79,  82, ...,  30,  32,  32],\n",
       "        [ 85,  84,  85, ...,  31,  33,  33],\n",
       "        ...,\n",
       "        [ 64,  67,  75, ..., 104, 107, 107],\n",
       "        [ 63,  67,  82, ..., 106, 110, 111],\n",
       "        [ 64,  69,  84, ..., 106, 111, 112]], dtype=uint8),\n",
       " array([[  7,  14,  16, ...,   5,   4,   4],\n",
       "        [ 11,  12,  12, ...,   3,   4,   4],\n",
       "        [ 13,   8,   6, ...,   4,   4,   4],\n",
       "        ...,\n",
       "        [ 22,  14, 122, ...,  84,  83,  86],\n",
       "        [  6,  26, 109, ...,  84,  85,  88],\n",
       "        [  9,  28, 107, ...,  85,  85,  88]], dtype=uint8),\n",
       " array([[ 74,  75,  77, ...,  12,  15,  17],\n",
       "        [ 75,  76,  78, ...,  13,  17,  19],\n",
       "        [ 75,  77,  79, ...,  12,  24,  25],\n",
       "        ...,\n",
       "        [ 59,  59,  58, ..., 109, 109, 109],\n",
       "        [ 56,  56,  56, ..., 105, 105, 104],\n",
       "        [ 55,  56,  56, ..., 105, 103, 102]], dtype=uint8),\n",
       " array([[ 23,  15,  14, ...,   4,   4,   4],\n",
       "        [ 29,  17,  13, ...,   4,   4,   4],\n",
       "        [ 23,  19,  18, ...,   4,   4,   4],\n",
       "        ...,\n",
       "        [117, 117, 123, ..., 126, 129, 129],\n",
       "        [123, 114, 131, ..., 129, 126, 127],\n",
       "        [111, 112, 136, ..., 128, 127, 131]], dtype=uint8),\n",
       " array([[ 46,  32,  26, ...,   4,   4,   4],\n",
       "        [ 56,  49,  33, ...,   4,   4,   4],\n",
       "        [ 49,  42,  38, ...,   5,   4,   4],\n",
       "        ...,\n",
       "        [117, 103, 106, ..., 101, 108, 112],\n",
       "        [110, 119, 115, ..., 103, 104, 100],\n",
       "        [104, 122, 125, ..., 109, 136, 120]], dtype=uint8),\n",
       " array([[77, 77, 74, ..., 24, 23, 23],\n",
       "        [77, 77, 74, ..., 26, 25, 25],\n",
       "        [77, 77, 75, ..., 34, 37, 37],\n",
       "        ...,\n",
       "        [55, 55, 59, ..., 97, 97, 97],\n",
       "        [57, 58, 57, ..., 91, 95, 96],\n",
       "        [57, 57, 56, ..., 88, 95, 96]], dtype=uint8),\n",
       " array([[ 75,  94,  68, ...,   4,   4,   4],\n",
       "        [ 61,  86,  84, ...,   4,   4,   4],\n",
       "        [ 66,  61,  40, ...,   4,   4,   4],\n",
       "        ...,\n",
       "        [  5,   4,  66, ...,  86,  93,  99],\n",
       "        [  7,   2,  78, ..., 111, 102, 105],\n",
       "        [  9,   5,  82, ..., 104, 104, 108]], dtype=uint8),\n",
       " array([[ 14,  19,  26, ...,   5,  10,  11],\n",
       "        [ 14,  18,  22, ...,   6,  11,  12],\n",
       "        [ 13,  14,  16, ...,   7,   9,  10],\n",
       "        ...,\n",
       "        [181, 181, 182, ...,  64,  65,  65],\n",
       "        [183, 184, 183, ...,  62,  63,  64],\n",
       "        [183, 184, 183, ...,  62,  63,  64]], dtype=uint8),\n",
       " array([[ 66,  68,  63, ...,   1,   6,   6],\n",
       "        [ 64,  70,  68, ...,   5,   5,   5],\n",
       "        [ 68,  69,  69, ...,   7,   6,   5],\n",
       "        ...,\n",
       "        [133, 139, 134, ...,  64,  63,  73],\n",
       "        [140, 124, 133, ...,  62,  70,  74],\n",
       "        [136, 121, 127, ...,  59,  70,  74]], dtype=uint8),\n",
       " array([[ 73,  67,  70, ...,  13,  20,  25],\n",
       "        [ 71,  65,  62, ...,   8,  10,  12],\n",
       "        [ 73,  70,  64, ...,   6,   5,   5],\n",
       "        ...,\n",
       "        [140, 138, 137, ...,  53,  43,  47],\n",
       "        [126, 134, 135, ...,  55,  50,  48],\n",
       "        [120, 130, 134, ...,  56,  51,  50]], dtype=uint8),\n",
       " array([[ 78,  71,  66, ...,   4,   3,   3],\n",
       "        [ 74,  77,  78, ...,   4,   3,   3],\n",
       "        [ 71,  74,  76, ...,   4,   3,   3],\n",
       "        ...,\n",
       "        [126, 135, 132, ..., 114, 110, 106],\n",
       "        [134, 147, 136, ..., 122,  92,  84],\n",
       "        [130, 137, 131, ...,  92,  60,  54]], dtype=uint8),\n",
       " array([[108, 111, 115, ...,  31,  10,  16],\n",
       "        [108, 110, 106, ...,   2,   6,   9],\n",
       "        [109, 105, 107, ...,  22,  14,  13],\n",
       "        ...,\n",
       "        [ 62,  71,  75, ..., 113, 109, 107],\n",
       "        [ 68,  66,  69, ..., 116, 115, 113],\n",
       "        [ 72,  70,  73, ..., 112, 118, 117]], dtype=uint8),\n",
       " array([[112, 116, 120, ...,  14,   7,   7],\n",
       "        [ 89,  97, 117, ...,   9,   3,   3],\n",
       "        [ 91,  95, 111, ...,   5,   3,   3],\n",
       "        ...,\n",
       "        [ 62,  62,  69, ..., 120, 125, 120],\n",
       "        [ 67,  62,  63, ..., 117, 107, 107],\n",
       "        [ 69,  65,  65, ..., 119, 119, 124]], dtype=uint8),\n",
       " array([[ 95,  87,  91, ...,   3,   3,   3],\n",
       "        [100,  97,  86, ...,   3,   4,   4],\n",
       "        [ 93, 100, 101, ...,   3,   3,   3],\n",
       "        ...,\n",
       "        [ 58,  59,  62, ..., 117, 114, 105],\n",
       "        [ 55,  63,  57, ..., 117, 121, 121],\n",
       "        [ 55,  66,  60, ..., 117, 115, 115]], dtype=uint8),\n",
       " array([[ 30,  32,  45, ...,   4,   4,   4],\n",
       "        [ 21,  25,  48, ...,   4,   4,   4],\n",
       "        [ 24,  27,  48, ...,   4,   4,   4],\n",
       "        ...,\n",
       "        [118, 111, 128, ..., 122, 121, 124],\n",
       "        [118, 115, 119, ..., 123, 124, 128],\n",
       "        [119, 125, 130, ..., 121, 123, 126]], dtype=uint8),\n",
       " array([[ 84,  84,  86, ...,   4,   4,   4],\n",
       "        [ 87,  85,  85, ...,   4,   4,   4],\n",
       "        [ 84,  81,  80, ...,   4,   4,   4],\n",
       "        ...,\n",
       "        [ 59,  57,  52, ..., 114, 126, 118],\n",
       "        [ 64,  60,  58, ..., 109, 113, 117],\n",
       "        [ 66,  61,  58, ..., 115, 112, 117]], dtype=uint8)]"
      ]
     },
     "execution_count": 30,
     "metadata": {},
     "output_type": "execute_result"
    }
   ],
   "source": [
    "faces"
   ]
  },
  {
   "cell_type": "code",
   "execution_count": 34,
   "metadata": {},
   "outputs": [
    {
     "data": {
      "text/plain": [
       "array([1, 1, 1, 1, 1, 1, 1, 1, 1, 1, 1, 1, 1, 1, 1, 1, 1, 1, 1, 1, 1, 1,\n",
       "       1, 1, 1, 1, 1, 1, 1, 1, 1, 1, 1, 1, 1, 1, 1, 1, 1, 1, 1, 1, 1, 1,\n",
       "       1, 1, 1, 1, 1, 1, 1, 1, 1, 1, 1, 1, 1, 1, 1, 1, 1, 1, 1, 1, 1, 1,\n",
       "       1, 1, 1, 1, 1, 1, 1, 1, 1, 1, 1, 1, 1, 1, 1, 1, 1, 1, 1, 1, 1, 1,\n",
       "       1, 1])"
      ]
     },
     "execution_count": 34,
     "metadata": {},
     "output_type": "execute_result"
    }
   ],
   "source": [
    "ids"
   ]
  },
  {
   "cell_type": "markdown",
   "metadata": {},
   "source": [
    "### LBPH Training"
   ]
  },
  {
   "cell_type": "code",
   "execution_count": 36,
   "metadata": {},
   "outputs": [],
   "source": [
    "import cv2\n",
    "\n",
    "LBPH_clf = cv2.face.LBPHFaceRecognizer_create() # depreciated\n",
    "LBPH_clf = cv2.face.LBPHFaceRecognizer.create()"
   ]
  },
  {
   "cell_type": "markdown",
   "metadata": {},
   "source": [
    "#### .train()"
   ]
  },
  {
   "cell_type": "code",
   "execution_count": null,
   "metadata": {},
   "outputs": [],
   "source": [
    "LBPH_clf.train(faces, ids)"
   ]
  },
  {
   "cell_type": "markdown",
   "metadata": {},
   "source": [
    "#### .write()"
   ]
  },
  {
   "cell_type": "code",
   "execution_count": null,
   "metadata": {},
   "outputs": [],
   "source": [
    "LBPH_clf.write(\"model_classifier.xml\")"
   ]
  },
  {
   "cell_type": "markdown",
   "metadata": {},
   "source": [
    "# recognize_cam.py"
   ]
  },
  {
   "cell_type": "markdown",
   "metadata": {},
   "source": [
    "## Camera configuration"
   ]
  },
  {
   "cell_type": "code",
   "execution_count": 37,
   "metadata": {},
   "outputs": [
    {
     "data": {
      "text/plain": [
       "True"
      ]
     },
     "execution_count": 37,
     "metadata": {},
     "output_type": "execute_result"
    }
   ],
   "source": [
    "cap = cv2.VideoCapture(0)\n",
    "cap.set(cv2.CAP_PROP_FPS, 60)\n",
    "cap.set(3, 640)\n",
    "cap.set(4, 480)"
   ]
  },
  {
   "cell_type": "markdown",
   "metadata": {},
   "source": [
    "## Load camera"
   ]
  },
  {
   "cell_type": "code",
   "execution_count": null,
   "metadata": {},
   "outputs": [],
   "source": [
    "while True:\n",
    "    ret, img = cap.read()\n",
    "\n",
    "    if not ret:\n",
    "        print(\"Error: Could not read frame.\")\n",
    "        break\n",
    "\n",
    "    cv2.imshow(\"Webcam Feed\", img)\n",
    "    \n",
    "    if cv2.waitKey(1) & 0xFF == ord('q'):\n",
    "        break\n",
    "\n",
    "cap.release()\n",
    "cv2.destroyAllWindows()"
   ]
  },
  {
   "cell_type": "markdown",
   "metadata": {},
   "source": [
    "# queries.py"
   ]
  },
  {
   "cell_type": "code",
   "execution_count": 28,
   "metadata": {},
   "outputs": [],
   "source": [
    "from queries import Queries\n",
    "\n",
    "q = Queries()\n",
    "\n",
    "database = r\"databases\\Attentiface.db\""
   ]
  },
  {
   "cell_type": "code",
   "execution_count": 3,
   "metadata": {},
   "outputs": [
    {
     "name": "stdout",
     "output_type": "stream",
     "text": [
      "Tables in the database databases\\Attentiface.db:\n",
      "Credentials\n",
      "sqlite_sequence\n",
      "Schedule\n",
      "Employee\n",
      "Attendance\n"
     ]
    }
   ],
   "source": [
    "q.print_all_tables(database)"
   ]
  },
  {
   "cell_type": "code",
   "execution_count": 4,
   "metadata": {},
   "outputs": [
    {
     "data": {
      "text/plain": [
       "[(1, 'sample_email', 'sample_code')]"
      ]
     },
     "execution_count": 4,
     "metadata": {},
     "output_type": "execute_result"
    }
   ],
   "source": [
    "q.print_all_values(database, \"Credentials\")"
   ]
  },
  {
   "cell_type": "code",
   "execution_count": 5,
   "metadata": {},
   "outputs": [
    {
     "data": {
      "text/plain": [
       "[(1,\n",
       "  'Gonzales',\n",
       "  'Kenaniah',\n",
       "  'L.',\n",
       "  ' Male',\n",
       "  'gonzaleskenken1929@gmail.com',\n",
       "  '9649112151',\n",
       "  '1387 National Highway, Balibago, Santa Rosa, Laguna',\n",
       "  '',\n",
       "  '2019-00295-SR-0'),\n",
       " (2,\n",
       "  'sample',\n",
       "  'sample_name',\n",
       "  'sample_mi',\n",
       "  ' Female',\n",
       "  'sample_email',\n",
       "  'sample_contact',\n",
       "  'sample_address',\n",
       "  '',\n",
       "  '2019-00297-SR-0')]"
      ]
     },
     "execution_count": 5,
     "metadata": {},
     "output_type": "execute_result"
    }
   ],
   "source": [
    "q.print_all_values(database, \"Employee\")"
   ]
  },
  {
   "cell_type": "code",
   "execution_count": 9,
   "metadata": {},
   "outputs": [
    {
     "data": {
      "text/plain": [
       "[(1, '07:00:00', '16:00:00', '11:00 am - 12:00 pm')]"
      ]
     },
     "execution_count": 9,
     "metadata": {},
     "output_type": "execute_result"
    }
   ],
   "source": [
    "q.print_all_values(\n",
    "    database,\n",
    "    \"Schedule\"\n",
    ")"
   ]
  },
  {
   "cell_type": "code",
   "execution_count": 10,
   "metadata": {},
   "outputs": [
    {
     "data": {
      "text/plain": [
       "[]"
      ]
     },
     "execution_count": 10,
     "metadata": {},
     "output_type": "execute_result"
    }
   ],
   "source": [
    "q.print_all_values(\n",
    "    database,\n",
    "    \"Attendance\"\n",
    ")"
   ]
  },
  {
   "cell_type": "code",
   "execution_count": null,
   "metadata": {},
   "outputs": [
    {
     "name": "stdout",
     "output_type": "stream",
     "text": [
      "Columns in the table 'Attendance':\n",
      "Name: ID, Type: INTEGER\n",
      "Name: employee_id, Type: varchar(45)\n",
      "Name: last_name, Type: varchar(45)\n",
      "Name: first_name, Type: varchar(45)\n",
      "Name: middle_initial, Type: varchar(45)\n",
      "Name: time_in, Type: text\n",
      "Name: time_out, Type: text\n",
      "Name: date, Type: text\n",
      "Name: secondary_id, Type: text\n"
     ]
    }
   ],
   "source": [
    "q.print_column_names(database,\n",
    "                     \"Attendance\")"
   ]
  },
  {
   "cell_type": "code",
   "execution_count": null,
   "metadata": {},
   "outputs": [
    {
     "data": {
      "text/plain": [
       "[('Gonzales', 'Kenaniah', 'L.', '2019-00295-SR-0')]"
      ]
     },
     "metadata": {},
     "output_type": "display_data"
    }
   ],
   "source": [
    "database = r\"databases\\Attentiface.db\"\n",
    "table = \"Employee\"\n",
    "match = q.read_v2(database,\n",
    "                        table,\n",
    "                        columns = [\"last_name\",\n",
    "                                    \"first_name\",\n",
    "                                    \"middle_initial\",\n",
    "                                    \"employee_id\"],\n",
    "                        row_specific = True,\n",
    "                        column_key = \"ID\",\n",
    "                        id = 1)\n",
    "match"
   ]
  },
  {
   "cell_type": "code",
   "execution_count": null,
   "metadata": {},
   "outputs": [
    {
     "data": {
      "text/plain": [
       "[]"
      ]
     },
     "metadata": {},
     "output_type": "display_data"
    }
   ],
   "source": [
    "database = r\"databases\\Attentiface.db\"\n",
    "table = \"Attendance\"\n",
    "row = q.read_v2(database,\n",
    "                        table,\n",
    "                        columns = [\"time_in\"],\n",
    "                        row_specific = True,\n",
    "                        column_key = \"secondary_id\",\n",
    "                        id = 1)\n",
    "row"
   ]
  },
  {
   "cell_type": "markdown",
   "metadata": {},
   "source": [
    "# utils.py"
   ]
  },
  {
   "cell_type": "code",
   "execution_count": 8,
   "metadata": {},
   "outputs": [],
   "source": [
    "from tkinter import *\n",
    "from utils.utilities import datetime_utils as dtu\n",
    "\n",
    "root = Tk()\n",
    "\n",
    "q.update(\n",
    "    database,\n",
    "    \"Schedule\",\n",
    "    columns = [\"start_time\", \"end_time\"],\n",
    "    values = dtu().twelve_to_twentyfour(time_list = [\"7:00 am\", \"4:00 pm\"]),\n",
    "    on_key = 1,\n",
    "    root = root\n",
    ")\n",
    "\n",
    "root.mainloop()"
   ]
  },
  {
   "cell_type": "code",
   "execution_count": 12,
   "metadata": {},
   "outputs": [
    {
     "data": {
      "text/plain": [
       "['07:00:00', '16:00:00']"
      ]
     },
     "execution_count": 12,
     "metadata": {},
     "output_type": "execute_result"
    }
   ],
   "source": [
    "from utils.utilities import datetime_utils as dtu\n",
    "\n",
    "dtu().twelve_to_twentyfour(time_list = [\"7:00 am\", \"4:00 pm\"])"
   ]
  },
  {
   "cell_type": "code",
   "execution_count": 26,
   "metadata": {},
   "outputs": [
    {
     "name": "stdout",
     "output_type": "stream",
     "text": [
      "None\n"
     ]
    }
   ],
   "source": [
    "import re\n",
    "\n",
    "tdeltaBREAK = \"11:00 am - 12:00 pm\"\n",
    "match = re.match(r\"(\\d+)\\s*(min(?:ute)?s?)\", tdeltaBREAK, re.IGNORECASE)\n",
    "print(match)"
   ]
  },
  {
   "cell_type": "code",
   "execution_count": 20,
   "metadata": {},
   "outputs": [
    {
     "data": {
      "text/plain": [
       "'11:00 am '"
      ]
     },
     "execution_count": 20,
     "metadata": {},
     "output_type": "execute_result"
    }
   ],
   "source": [
    "start = tdeltaBREAK[:tdeltaBREAK.index(\"-\")]\n",
    "start"
   ]
  },
  {
   "cell_type": "code",
   "execution_count": 22,
   "metadata": {},
   "outputs": [
    {
     "data": {
      "text/plain": [
       "'  12:00 pm'"
      ]
     },
     "execution_count": 22,
     "metadata": {},
     "output_type": "execute_result"
    }
   ],
   "source": [
    "end = tdeltaBREAK[tdeltaBREAK.index(\"-\") + 1 : ]\n",
    "end"
   ]
  },
  {
   "cell_type": "code",
   "execution_count": 17,
   "metadata": {},
   "outputs": [
    {
     "data": {
      "text/plain": [
       "9"
      ]
     },
     "execution_count": 17,
     "metadata": {},
     "output_type": "execute_result"
    }
   ],
   "source": [
    "tdeltaBREAK.index(\"-\")"
   ]
  },
  {
   "cell_type": "code",
   "execution_count": 24,
   "metadata": {},
   "outputs": [
    {
     "data": {
      "text/plain": [
       "'11:00 am'"
      ]
     },
     "execution_count": 24,
     "metadata": {},
     "output_type": "execute_result"
    }
   ],
   "source": [
    "start.strip()"
   ]
  },
  {
   "cell_type": "code",
   "execution_count": 25,
   "metadata": {},
   "outputs": [
    {
     "data": {
      "text/plain": [
       "'12:00 pm'"
      ]
     },
     "execution_count": 25,
     "metadata": {},
     "output_type": "execute_result"
    }
   ],
   "source": [
    "end.strip()"
   ]
  },
  {
   "cell_type": "code",
   "execution_count": null,
   "metadata": {},
   "outputs": [],
   "source": []
  }
 ],
 "metadata": {
  "kernelspec": {
   "display_name": ".venv",
   "language": "python",
   "name": "python3"
  },
  "language_info": {
   "codemirror_mode": {
    "name": "ipython",
    "version": 3
   },
   "file_extension": ".py",
   "mimetype": "text/x-python",
   "name": "python",
   "nbconvert_exporter": "python",
   "pygments_lexer": "ipython3",
   "version": "3.9.10"
  }
 },
 "nbformat": 4,
 "nbformat_minor": 2
}
